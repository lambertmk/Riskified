{
 "cells": [
  {
   "cell_type": "code",
   "execution_count": 1,
   "metadata": {},
   "outputs": [],
   "source": [
    "import pandas as pd\n",
    "import numpy as np \n",
    "import matplotlib.pyplot as plt \n",
    "import seaborn as sns "
   ]
  },
  {
   "cell_type": "code",
   "execution_count": 2,
   "metadata": {},
   "outputs": [
    {
     "data": {
      "text/html": [
       "<div>\n",
       "<style scoped>\n",
       "    .dataframe tbody tr th:only-of-type {\n",
       "        vertical-align: middle;\n",
       "    }\n",
       "\n",
       "    .dataframe tbody tr th {\n",
       "        vertical-align: top;\n",
       "    }\n",
       "\n",
       "    .dataframe thead th {\n",
       "        text-align: right;\n",
       "    }\n",
       "</style>\n",
       "<table border=\"1\" class=\"dataframe\">\n",
       "  <thead>\n",
       "    <tr style=\"text-align: right;\">\n",
       "      <th></th>\n",
       "      <th>shape</th>\n",
       "      <th>color</th>\n",
       "      <th>area</th>\n",
       "    </tr>\n",
       "  </thead>\n",
       "  <tbody>\n",
       "    <tr>\n",
       "      <td>0</td>\n",
       "      <td>square</td>\n",
       "      <td>yellow</td>\n",
       "      <td>9409.0</td>\n",
       "    </tr>\n",
       "    <tr>\n",
       "      <td>1</td>\n",
       "      <td>circle</td>\n",
       "      <td>yellow</td>\n",
       "      <td>4071.5</td>\n",
       "    </tr>\n",
       "    <tr>\n",
       "      <td>2</td>\n",
       "      <td>triangle</td>\n",
       "      <td>blue</td>\n",
       "      <td>2028.0</td>\n",
       "    </tr>\n",
       "    <tr>\n",
       "      <td>3</td>\n",
       "      <td>square</td>\n",
       "      <td>blue</td>\n",
       "      <td>3025.0</td>\n",
       "    </tr>\n",
       "    <tr>\n",
       "      <td>4</td>\n",
       "      <td>square</td>\n",
       "      <td>blue</td>\n",
       "      <td>9216.0</td>\n",
       "    </tr>\n",
       "  </tbody>\n",
       "</table>\n",
       "</div>"
      ],
      "text/plain": [
       "      shape   color    area\n",
       "0    square  yellow  9409.0\n",
       "1    circle  yellow  4071.5\n",
       "2  triangle    blue  2028.0\n",
       "3    square    blue  3025.0\n",
       "4    square    blue  9216.0"
      ]
     },
     "execution_count": 2,
     "metadata": {},
     "output_type": "execute_result"
    }
   ],
   "source": [
    "df = pd.read_csv('Analyst_Coding_Test_(1).csv')\n",
    "df.head()"
   ]
  },
  {
   "cell_type": "code",
   "execution_count": 3,
   "metadata": {},
   "outputs": [
    {
     "data": {
      "text/plain": [
       "shape    0\n",
       "color    0\n",
       "area     0\n",
       "dtype: int64"
      ]
     },
     "execution_count": 3,
     "metadata": {},
     "output_type": "execute_result"
    }
   ],
   "source": [
    "# quick check for missing values\n",
    "\n",
    "df.isna().sum()"
   ]
  },
  {
   "cell_type": "code",
   "execution_count": 4,
   "metadata": {},
   "outputs": [],
   "source": [
    "# 1. Draw a boxplot showing the area size distribution for each shape."
   ]
  },
  {
   "cell_type": "code",
   "execution_count": 5,
   "metadata": {},
   "outputs": [
    {
     "data": {
      "image/png": "[encoded data removed]",
      "text/plain": [
       "<Figure size 432x288 with 1 Axes>"
      ]
     },
     "metadata": {
      "needs_background": "light"
     },
     "output_type": "display_data"
    }
   ],
   "source": [
    "ax = sns.boxplot(x=\"shape\", y=\"area\", data=df, palette=\"crest\")"
   ]
  },
  {
   "cell_type": "code",
   "execution_count": 6,
   "metadata": {},
   "outputs": [],
   "source": [
    "# 2. Calculate the mean, max, and standard deviation of the area size of each color."
   ]
  },
  {
   "cell_type": "code",
   "execution_count": 7,
   "metadata": {},
   "outputs": [
    {
     "data": {
      "text/plain": [
       "array(['yellow', 'blue', 'red', 'green'], dtype=object)"
      ]
     },
     "execution_count": 7,
     "metadata": {},
     "output_type": "execute_result"
    }
   ],
   "source": [
    "df.color.unique()"
   ]
  },
  {
   "cell_type": "code",
   "execution_count": 8,
   "metadata": {},
   "outputs": [
    {
     "data": {
      "text/html": [
       "<div>\n",
       "<style scoped>\n",
       "    .dataframe tbody tr th:only-of-type {\n",
       "        vertical-align: middle;\n",
       "    }\n",
       "\n",
       "    .dataframe tbody tr th {\n",
       "        vertical-align: top;\n",
       "    }\n",
       "\n",
       "    .dataframe thead th {\n",
       "        text-align: right;\n",
       "    }\n",
       "</style>\n",
       "<table border=\"1\" class=\"dataframe\">\n",
       "  <thead>\n",
       "    <tr style=\"text-align: right;\">\n",
       "      <th></th>\n",
       "      <th>shape</th>\n",
       "      <th>color</th>\n",
       "      <th>area</th>\n",
       "    </tr>\n",
       "  </thead>\n",
       "  <tbody>\n",
       "    <tr>\n",
       "      <td>0</td>\n",
       "      <td>square</td>\n",
       "      <td>yellow</td>\n",
       "      <td>9409.0</td>\n",
       "    </tr>\n",
       "    <tr>\n",
       "      <td>1</td>\n",
       "      <td>circle</td>\n",
       "      <td>yellow</td>\n",
       "      <td>4071.5</td>\n",
       "    </tr>\n",
       "    <tr>\n",
       "      <td>5</td>\n",
       "      <td>square</td>\n",
       "      <td>yellow</td>\n",
       "      <td>4356.0</td>\n",
       "    </tr>\n",
       "    <tr>\n",
       "      <td>6</td>\n",
       "      <td>circle</td>\n",
       "      <td>yellow</td>\n",
       "      <td>78.5</td>\n",
       "    </tr>\n",
       "    <tr>\n",
       "      <td>8</td>\n",
       "      <td>square</td>\n",
       "      <td>yellow</td>\n",
       "      <td>1156.0</td>\n",
       "    </tr>\n",
       "  </tbody>\n",
       "</table>\n",
       "</div>"
      ],
      "text/plain": [
       "    shape   color    area\n",
       "0  square  yellow  9409.0\n",
       "1  circle  yellow  4071.5\n",
       "5  square  yellow  4356.0\n",
       "6  circle  yellow    78.5\n",
       "8  square  yellow  1156.0"
      ]
     },
     "execution_count": 8,
     "metadata": {},
     "output_type": "execute_result"
    }
   ],
   "source": [
    "yellow_df = df.loc[df['color'] == 'yellow']\n",
    "yellow_df.head()"
   ]
  },
  {
   "cell_type": "code",
   "execution_count": 9,
   "metadata": {},
   "outputs": [
    {
     "data": {
      "text/plain": [
       "4538.208088235295"
      ]
     },
     "metadata": {},
     "output_type": "display_data"
    },
    {
     "data": {
      "text/plain": [
       "31415.9"
      ]
     },
     "metadata": {},
     "output_type": "display_data"
    },
    {
     "data": {
      "text/plain": [
       "5352.460578324455"
      ]
     },
     "metadata": {},
     "output_type": "display_data"
    }
   ],
   "source": [
    "display(yellow_df.area.mean())\n",
    "display(yellow_df.area.max())\n",
    "display(yellow_df.area.std())"
   ]
  },
  {
   "cell_type": "code",
   "execution_count": 10,
   "metadata": {},
   "outputs": [],
   "source": [
    "blue_df = df.loc[df['color'] == 'blue']"
   ]
  },
  {
   "cell_type": "code",
   "execution_count": 11,
   "metadata": {},
   "outputs": [
    {
     "data": {
      "text/plain": [
       "3208.1316666666735"
      ]
     },
     "metadata": {},
     "output_type": "display_data"
    },
    {
     "data": {
      "text/plain": [
       "21642.4"
      ]
     },
     "metadata": {},
     "output_type": "display_data"
    },
    {
     "data": {
      "text/plain": [
       "3039.2129648171303"
      ]
     },
     "metadata": {},
     "output_type": "display_data"
    }
   ],
   "source": [
    "display(blue_df.area.mean())\n",
    "display(blue_df.area.max())\n",
    "display(blue_df.area.std())"
   ]
  },
  {
   "cell_type": "code",
   "execution_count": 12,
   "metadata": {},
   "outputs": [],
   "source": [
    "red_df = df.loc[df['color'] == 'red']"
   ]
  },
  {
   "cell_type": "code",
   "execution_count": 13,
   "metadata": {},
   "outputs": [
    {
     "data": {
      "text/plain": [
       "3815.8710344827646"
      ]
     },
     "metadata": {},
     "output_type": "display_data"
    },
    {
     "data": {
      "text/plain": [
       "31415.9"
      ]
     },
     "metadata": {},
     "output_type": "display_data"
    },
    {
     "data": {
      "text/plain": [
       "5092.678376780838"
      ]
     },
     "metadata": {},
     "output_type": "display_data"
    }
   ],
   "source": [
    "display(red_df.area.mean())\n",
    "display(red_df.area.max())\n",
    "display(red_df.area.std())"
   ]
  },
  {
   "cell_type": "code",
   "execution_count": 14,
   "metadata": {},
   "outputs": [],
   "source": [
    "green_df = df.loc[df['color'] == 'green']"
   ]
  },
  {
   "cell_type": "code",
   "execution_count": 15,
   "metadata": {},
   "outputs": [
    {
     "data": {
      "text/plain": [
       "5761.119230769232"
      ]
     },
     "metadata": {},
     "output_type": "display_data"
    },
    {
     "data": {
      "text/plain": [
       "27759.1"
      ]
     },
     "metadata": {},
     "output_type": "display_data"
    },
    {
     "data": {
      "text/plain": [
       "6695.029606348661"
      ]
     },
     "metadata": {},
     "output_type": "display_data"
    }
   ],
   "source": [
    "display(green_df.area.mean())\n",
    "display(green_df.area.max())\n",
    "display(green_df.area.std())"
   ]
  },
  {
   "cell_type": "code",
   "execution_count": 16,
   "metadata": {},
   "outputs": [],
   "source": [
    "# 3. What is the average area size of a yellow square?"
   ]
  },
  {
   "cell_type": "code",
   "execution_count": 17,
   "metadata": {},
   "outputs": [
    {
     "data": {
      "text/plain": [
       "3333.2072072072074"
      ]
     },
     "execution_count": 17,
     "metadata": {},
     "output_type": "execute_result"
    }
   ],
   "source": [
    "yellow_squares_df = df.loc[(df['color'] == 'yellow') & (df['shape'] =='square')]\n",
    "yellow_squares_df['area'].mean()"
   ]
  },
  {
   "cell_type": "code",
   "execution_count": 18,
   "metadata": {},
   "outputs": [],
   "source": [
    "# 4. Which shape is most likely to be green?"
   ]
  },
  {
   "cell_type": "code",
   "execution_count": 19,
   "metadata": {},
   "outputs": [
    {
     "data": {
      "text/plain": [
       "square    0.602564\n",
       "circle    0.397436\n",
       "Name: shape, dtype: float64"
      ]
     },
     "execution_count": 19,
     "metadata": {},
     "output_type": "execute_result"
    }
   ],
   "source": [
    "green_df['shape'].value_counts(normalize=True)\n",
    "\n",
    "# Squares are most likely to be green.\n",
    "# Interestingly, there are no green triangles!"
   ]
  },
  {
   "cell_type": "code",
   "execution_count": 20,
   "metadata": {},
   "outputs": [],
   "source": [
    "# 5. Given the fact that the object is red, with an area size larger than 3,000 - what are the chances the object is a square? a triangle? a circle?"
   ]
  },
  {
   "cell_type": "code",
   "execution_count": 21,
   "metadata": {},
   "outputs": [],
   "source": [
    "big_red_df = df.loc[(df['color'] == 'red') & (df['area'] > 3000)]"
   ]
  },
  {
   "cell_type": "code",
   "execution_count": 22,
   "metadata": {},
   "outputs": [
    {
     "data": {
      "text/plain": [
       "triangle    0.672\n",
       "square      0.168\n",
       "circle      0.160\n",
       "Name: shape, dtype: float64"
      ]
     },
     "execution_count": 22,
     "metadata": {},
     "output_type": "execute_result"
    }
   ],
   "source": [
    "big_red_df['shape'].value_counts(normalize=True)\n",
    "\n",
    "# traingles are about 67% of those big red shapes\n",
    "# squares and circles each make up about 16%"
   ]
  },
  {
   "cell_type": "code",
   "execution_count": 23,
   "metadata": {},
   "outputs": [],
   "source": [
    "# 6. Write a function that calculates the side or radius of an object, depending on the shape and area of the object [for an equilateral triangle - area = (side ^ 2) * sqrt(3) / 4]."
   ]
  },
  {
   "cell_type": "code",
   "execution_count": 24,
   "metadata": {},
   "outputs": [],
   "source": [
    "# circle: area/pi (radius)\n",
    "# square: area/sqrt\n",
    "# triangle: area = (side ^ 2) * sqrt(3) / 4\n",
    "\n",
    "import math\n",
    "\n",
    "def side(df):\n",
    "    if df['shape']== 'circle':\n",
    "        return math.sqrt((df['area']/ 3.14159))\n",
    "    elif df['shape'] == 'square':\n",
    "        return math.sqrt(df['area'])\n",
    "    else:\n",
    "        # in this dataset, should only be triangles left\n",
    "        return math.sqrt((df['area'])/.433)\n"
   ]
  },
  {
   "cell_type": "code",
   "execution_count": 25,
   "metadata": {},
   "outputs": [],
   "source": [
    "# 7. Add a column to the dataset called \"side\" that shows the size matching the area in each row, round that number to the closest integer (shape side or radius)."
   ]
  },
  {
   "cell_type": "code",
   "execution_count": 26,
   "metadata": {},
   "outputs": [
    {
     "data": {
      "text/html": [
       "<div>\n",
       "<style scoped>\n",
       "    .dataframe tbody tr th:only-of-type {\n",
       "        vertical-align: middle;\n",
       "    }\n",
       "\n",
       "    .dataframe tbody tr th {\n",
       "        vertical-align: top;\n",
       "    }\n",
       "\n",
       "    .dataframe thead th {\n",
       "        text-align: right;\n",
       "    }\n",
       "</style>\n",
       "<table border=\"1\" class=\"dataframe\">\n",
       "  <thead>\n",
       "    <tr style=\"text-align: right;\">\n",
       "      <th></th>\n",
       "      <th>shape</th>\n",
       "      <th>color</th>\n",
       "      <th>area</th>\n",
       "      <th>side</th>\n",
       "    </tr>\n",
       "  </thead>\n",
       "  <tbody>\n",
       "    <tr>\n",
       "      <td>0</td>\n",
       "      <td>square</td>\n",
       "      <td>yellow</td>\n",
       "      <td>9409.0</td>\n",
       "      <td>97.0</td>\n",
       "    </tr>\n",
       "    <tr>\n",
       "      <td>1</td>\n",
       "      <td>circle</td>\n",
       "      <td>yellow</td>\n",
       "      <td>4071.5</td>\n",
       "      <td>36.0</td>\n",
       "    </tr>\n",
       "    <tr>\n",
       "      <td>2</td>\n",
       "      <td>triangle</td>\n",
       "      <td>blue</td>\n",
       "      <td>2028.0</td>\n",
       "      <td>68.0</td>\n",
       "    </tr>\n",
       "    <tr>\n",
       "      <td>3</td>\n",
       "      <td>square</td>\n",
       "      <td>blue</td>\n",
       "      <td>3025.0</td>\n",
       "      <td>55.0</td>\n",
       "    </tr>\n",
       "    <tr>\n",
       "      <td>4</td>\n",
       "      <td>square</td>\n",
       "      <td>blue</td>\n",
       "      <td>9216.0</td>\n",
       "      <td>96.0</td>\n",
       "    </tr>\n",
       "  </tbody>\n",
       "</table>\n",
       "</div>"
      ],
      "text/plain": [
       "      shape   color    area  side\n",
       "0    square  yellow  9409.0  97.0\n",
       "1    circle  yellow  4071.5  36.0\n",
       "2  triangle    blue  2028.0  68.0\n",
       "3    square    blue  3025.0  55.0\n",
       "4    square    blue  9216.0  96.0"
      ]
     },
     "execution_count": 26,
     "metadata": {},
     "output_type": "execute_result"
    }
   ],
   "source": [
    "df['side'] = round(df.apply(side, axis=1),0)\n",
    "df.head()"
   ]
  },
  {
   "cell_type": "code",
   "execution_count": 27,
   "metadata": {},
   "outputs": [],
   "source": [
    "# 8. Draw a boxplot showing the side size distribution for each shape - what can you infer from this plot?"
   ]
  },
  {
   "cell_type": "code",
   "execution_count": 28,
   "metadata": {},
   "outputs": [
    {
     "data": {
      "image/png": "[encoded data removed]",
      "text/plain": [
       "<Figure size 432x288 with 1 Axes>"
      ]
     },
     "metadata": {
      "needs_background": "light"
     },
     "output_type": "display_data"
    }
   ],
   "source": [
    "ax = sns.boxplot(y=\"shape\", x=\"side\", data=df, palette=\"crest\")\n",
    "\n",
    "# side length of square is very similar to radius of circle data\n",
    "# median, outliers are almost at the same value (around 50)\n",
    "# spread of triangle is a bit bigger\n",
    "# all three are remarkably symmetrical"
   ]
  },
  {
   "cell_type": "code",
   "execution_count": 29,
   "metadata": {},
   "outputs": [
    {
     "data": {
      "text/plain": [
       "<seaborn.axisgrid.FacetGrid at 0x7fba0f9ced50>"
      ]
     },
     "execution_count": 29,
     "metadata": {},
     "output_type": "execute_result"
    },
    {
     "data": {
      "image/png": "[encoded data removed]",
      "text/plain": [
       "<Figure size 648x216 with 3 Axes>"
      ]
     },
     "metadata": {
      "needs_background": "light"
     },
     "output_type": "display_data"
    }
   ],
   "source": [
    "# checking the distribution here - just exploratory\n",
    "\n",
    "sns.displot(\n",
    "    df, x=\"side\", col=\"shape\",\n",
    "    binwidth=3, height=3, palette=\"crest\")"
   ]
  },
  {
   "cell_type": "code",
   "execution_count": 30,
   "metadata": {},
   "outputs": [],
   "source": [
    "# 9. Make a scatter plot with \"side\" on the x axis, \"area\" on the y axis with a different color for each shape."
   ]
  },
  {
   "cell_type": "code",
   "execution_count": 31,
   "metadata": {},
   "outputs": [
    {
     "data": {
      "text/plain": [
       "<matplotlib.axes._subplots.AxesSubplot at 0x7fba100ba0d0>"
      ]
     },
     "execution_count": 31,
     "metadata": {},
     "output_type": "execute_result"
    },
    {
     "data": {
      "image/png": "[encoded data removed]",
      "text/plain": [
       "<Figure size 468x468 with 1 Axes>"
      ]
     },
     "metadata": {
      "needs_background": "light"
     },
     "output_type": "display_data"
    }
   ],
   "source": [
    "f, ax = plt.subplots(figsize=(6.5, 6.5))\n",
    "sns.despine(f, left=True, bottom=True)\n",
    "sns.scatterplot(x=\"side\", y=\"area\",\n",
    "                hue=\"shape\", linewidth=0,\n",
    "                data=df, ax=ax, palette=\"crest\")"
   ]
  },
  {
   "cell_type": "code",
   "execution_count": 32,
   "metadata": {},
   "outputs": [],
   "source": [
    "# 10. Create a dataframe, table or list that show for each shape:\n",
    "\n",
    "         # a. The proportion of red objects within the shape\n",
    "\n",
    "         # b. The proportion of blue area out of the shape's total area (sum of square inch blue area of the shape over sum of all shape size)."
   ]
  },
  {
   "cell_type": "code",
   "execution_count": 33,
   "metadata": {},
   "outputs": [],
   "source": [
    "# 10a: I'm taking this to mean what percentage of objects are red, by each shape."
   ]
  },
  {
   "cell_type": "code",
   "execution_count": 34,
   "metadata": {},
   "outputs": [
    {
     "data": {
      "text/html": [
       "<div>\n",
       "<style scoped>\n",
       "    .dataframe tbody tr th:only-of-type {\n",
       "        vertical-align: middle;\n",
       "    }\n",
       "\n",
       "    .dataframe tbody tr th {\n",
       "        vertical-align: top;\n",
       "    }\n",
       "\n",
       "    .dataframe thead th {\n",
       "        text-align: right;\n",
       "    }\n",
       "</style>\n",
       "<table border=\"1\" class=\"dataframe\">\n",
       "  <thead>\n",
       "    <tr style=\"text-align: right;\">\n",
       "      <th></th>\n",
       "      <th></th>\n",
       "      <th>shape</th>\n",
       "    </tr>\n",
       "    <tr>\n",
       "      <th>shape</th>\n",
       "      <th>color</th>\n",
       "      <th></th>\n",
       "    </tr>\n",
       "  </thead>\n",
       "  <tbody>\n",
       "    <tr>\n",
       "      <td rowspan=\"4\" valign=\"top\">circle</td>\n",
       "      <td>blue</td>\n",
       "      <td>7.500000</td>\n",
       "    </tr>\n",
       "    <tr>\n",
       "      <td>green</td>\n",
       "      <td>25.833333</td>\n",
       "    </tr>\n",
       "    <tr>\n",
       "      <td>red</td>\n",
       "      <td>25.000000</td>\n",
       "    </tr>\n",
       "    <tr>\n",
       "      <td>yellow</td>\n",
       "      <td>41.666667</td>\n",
       "    </tr>\n",
       "    <tr>\n",
       "      <td rowspan=\"4\" valign=\"top\">square</td>\n",
       "      <td>blue</td>\n",
       "      <td>31.865828</td>\n",
       "    </tr>\n",
       "    <tr>\n",
       "      <td>green</td>\n",
       "      <td>9.853249</td>\n",
       "    </tr>\n",
       "    <tr>\n",
       "      <td>red</td>\n",
       "      <td>11.740042</td>\n",
       "    </tr>\n",
       "    <tr>\n",
       "      <td>yellow</td>\n",
       "      <td>46.540881</td>\n",
       "    </tr>\n",
       "    <tr>\n",
       "      <td rowspan=\"2\" valign=\"top\">triangle</td>\n",
       "      <td>blue</td>\n",
       "      <td>49.379653</td>\n",
       "    </tr>\n",
       "    <tr>\n",
       "      <td>red</td>\n",
       "      <td>50.620347</td>\n",
       "    </tr>\n",
       "  </tbody>\n",
       "</table>\n",
       "</div>"
      ],
      "text/plain": [
       "                     shape\n",
       "shape    color            \n",
       "circle   blue     7.500000\n",
       "         green   25.833333\n",
       "         red     25.000000\n",
       "         yellow  41.666667\n",
       "square   blue    31.865828\n",
       "         green    9.853249\n",
       "         red     11.740042\n",
       "         yellow  46.540881\n",
       "triangle blue    49.379653\n",
       "         red     50.620347"
      ]
     },
     "execution_count": 34,
     "metadata": {},
     "output_type": "execute_result"
    }
   ],
   "source": [
    "red_totals = df.groupby(['shape', 'color']).agg({'shape': 'count'})\n",
    "red_percent = red_totals.groupby(level=0).apply(lambda x:\n",
    "                                                 100 * x / float(x.sum()))\n",
    "red_percent"
   ]
  },
  {
   "cell_type": "code",
   "execution_count": 35,
   "metadata": {},
   "outputs": [],
   "source": [
    "#10b: The proportion of blue area out of the shape's total area (sum of square inch blue area of the shape over sum of all shape size)."
   ]
  },
  {
   "cell_type": "code",
   "execution_count": 36,
   "metadata": {},
   "outputs": [],
   "source": [
    "# let's create a new dataframe for this (so we don't modify the original)\n",
    "area_df = df.copy()"
   ]
  },
  {
   "cell_type": "code",
   "execution_count": 37,
   "metadata": {},
   "outputs": [],
   "source": [
    "# First, let's sum the area of all shapes\n",
    "area_sum = area_df.agg({'area' :['sum']})\n",
    "area_sum = int(area_sum.values)"
   ]
  },
  {
   "cell_type": "code",
   "execution_count": 38,
   "metadata": {},
   "outputs": [],
   "source": [
    "# Now, let's get the sum of blue areas\n",
    "blue_area = area_df.loc[area_df['color'] == 'blue']\n",
    "blue_sum = blue_area.agg({'area' :['sum']})\n",
    "blue_sum = int(blue_sum.values)"
   ]
  },
  {
   "cell_type": "code",
   "execution_count": 39,
   "metadata": {},
   "outputs": [],
   "source": [
    "# perfect, now let's combine them in a table\n",
    "\n",
    "from prettytable import PrettyTable\n",
    "\n",
    "t = PrettyTable(['Shape Detail','Total Area', 'Blue Area', 'Blue Percent'])\n",
    "t.add_row(['All',area_sum, blue_sum, round((blue_sum/area_sum)*100, 2)])"
   ]
  },
  {
   "cell_type": "code",
   "execution_count": 40,
   "metadata": {},
   "outputs": [
    {
     "name": "stdout",
     "output_type": "stream",
     "text": [
      "+--------------+------------+-----------+--------------+\n",
      "| Shape Detail | Total Area | Blue Area | Blue Percent |\n",
      "+--------------+------------+-----------+--------------+\n",
      "|     All      |  3945289   |  1154927  |    29.27     |\n",
      "+--------------+------------+-----------+--------------+\n"
     ]
    }
   ],
   "source": [
    "print(t)"
   ]
  },
  {
   "cell_type": "code",
   "execution_count": 41,
   "metadata": {},
   "outputs": [],
   "source": [
    "# and now let's do that shape by shape\n",
    "circle_area = area_df.loc[area_df['shape'] == 'circle']\n",
    "circle_area_sum = circle_area.agg({'area' :['sum']})\n",
    "circle_area_sum = int(circle_area_sum.values)\n",
    "\n",
    "# for this question, we want ONLY the values\n",
    "# we're taking an extra line to return this in a \"cleaner\" format"
   ]
  },
  {
   "cell_type": "code",
   "execution_count": 42,
   "metadata": {},
   "outputs": [],
   "source": [
    "blue_circle_area = area_df.loc[(area_df['shape'] == 'circle') & (area_df['color'] == 'blue')]\n",
    "blue_circle_sum = blue_circle_area.agg({'area' :['sum']})\n",
    "blue_circle_sum = int(blue_circle_sum.values)"
   ]
  },
  {
   "cell_type": "code",
   "execution_count": 43,
   "metadata": {},
   "outputs": [
    {
     "name": "stdout",
     "output_type": "stream",
     "text": [
      "+--------------+------------+-----------+--------------+\n",
      "| Shape Detail | Total Area | Blue Area | Blue Percent |\n",
      "+--------------+------------+-----------+--------------+\n",
      "|     All      |  3945289   |  1154927  |    29.27     |\n",
      "|    Circle    |  1284417   |   78665   |     6.12     |\n",
      "+--------------+------------+-----------+--------------+\n"
     ]
    }
   ],
   "source": [
    "# add those to the table\n",
    "t.add_row(['Circle', circle_area_sum, blue_circle_sum, round((blue_circle_sum/circle_area_sum)*100, 2)])\n",
    "print(t)"
   ]
  },
  {
   "cell_type": "code",
   "execution_count": 44,
   "metadata": {},
   "outputs": [],
   "source": [
    "# repeat this for squares\n",
    "\n",
    "square_area = area_df.loc[area_df['shape'] == 'square']\n",
    "square_area_sum = square_area.agg({'area' :['sum']})\n",
    "square_area_sum = int(square_area_sum.values)"
   ]
  },
  {
   "cell_type": "code",
   "execution_count": 45,
   "metadata": {},
   "outputs": [],
   "source": [
    "blue_square_area = area_df.loc[(area_df['shape'] == 'square') & (area_df['color'] == 'blue')]\n",
    "blue_square_sum = blue_square_area.agg({'area' :['sum']})\n",
    "blue_square_sum = int(blue_square_sum.values)"
   ]
  },
  {
   "cell_type": "code",
   "execution_count": 46,
   "metadata": {},
   "outputs": [
    {
     "name": "stdout",
     "output_type": "stream",
     "text": [
      "+--------------+------------+-----------+--------------+\n",
      "| Shape Detail | Total Area | Blue Area | Blue Percent |\n",
      "+--------------+------------+-----------+--------------+\n",
      "|     All      |  3945289   |  1154927  |    29.27     |\n",
      "|    Circle    |  1284417   |   78665   |     6.12     |\n",
      "|    Square    |  1627190   |   586415  |    36.04     |\n",
      "+--------------+------------+-----------+--------------+\n"
     ]
    }
   ],
   "source": [
    "t.add_row(['Square', square_area_sum, blue_square_sum, round((blue_square_sum/square_area_sum)*100, 2)])\n",
    "print(t)"
   ]
  },
  {
   "cell_type": "code",
   "execution_count": 47,
   "metadata": {},
   "outputs": [],
   "source": [
    "# and lastly, for triangles\n",
    "\n",
    "triangle_area = area_df.loc[area_df['shape'] == 'triangle']\n",
    "triangle_area_sum = triangle_area.agg({'area' :['sum']})\n",
    "triangle_area_sum = int(triangle_area_sum.values)"
   ]
  },
  {
   "cell_type": "code",
   "execution_count": 48,
   "metadata": {},
   "outputs": [],
   "source": [
    "blue_triangle_area = area_df.loc[(area_df['shape'] == 'triangle') & (area_df['color'] == 'blue')]\n",
    "blue_triangle_sum = blue_triangle_area.agg({'area' :['sum']})\n",
    "blue_triangle_sum = int(blue_triangle_sum.values)"
   ]
  },
  {
   "cell_type": "code",
   "execution_count": 49,
   "metadata": {},
   "outputs": [
    {
     "name": "stdout",
     "output_type": "stream",
     "text": [
      "+--------------+------------+-----------+--------------+\n",
      "| Shape Detail | Total Area | Blue Area | Blue Percent |\n",
      "+--------------+------------+-----------+--------------+\n",
      "|     All      |  3945289   |  1154927  |    29.27     |\n",
      "|    Circle    |  1284417   |   78665   |     6.12     |\n",
      "|    Square    |  1627190   |   586415  |    36.04     |\n",
      "|   Triangle   |  1033681   |   489847  |    47.39     |\n",
      "+--------------+------------+-----------+--------------+\n"
     ]
    }
   ],
   "source": [
    "t.add_row(['Triangle', triangle_area_sum, blue_triangle_sum, round((blue_triangle_sum/triangle_area_sum)*100, 2)])\n",
    "print(t)"
   ]
  },
  {
   "cell_type": "code",
   "execution_count": 50,
   "metadata": {},
   "outputs": [],
   "source": [
    "#11. Create a function that calculates 10. b. for a given shape and color."
   ]
  },
  {
   "cell_type": "code",
   "execution_count": 51,
   "metadata": {},
   "outputs": [
    {
     "name": "stdout",
     "output_type": "stream",
     "text": [
      "Circle:  6.12 %\n",
      "Square:  36.04 %\n",
      "Triangle:  47.39 %\n"
     ]
    }
   ],
   "source": [
    "shapes = ['circle', 'square', 'triangle']\n",
    "\n",
    "for shape in shapes:\n",
    "    if shape == 'circle':\n",
    "        circle_area = area_df.loc[area_df['shape'] == 'circle']\n",
    "        circle_area_sum = circle_area.agg({'area' :['sum']})\n",
    "        circle_area_sum = int(circle_area_sum.values)\n",
    "        blue_circle_area = circle_area.loc[circle_area['color'] == 'blue']\n",
    "        blue_circle_sum = blue_circle_area.agg({'area' :['sum']})\n",
    "        blue_circle_sum = int(blue_circle_sum.values)\n",
    "        print('Circle: ',round((blue_circle_sum/circle_area_sum)*100, 2),'%')\n",
    "    if shape == 'square':\n",
    "        square_area = area_df.loc[area_df['shape'] == 'square']\n",
    "        square_area_sum = square_area.agg({'area' :['sum']})\n",
    "        square_area_sum = int(square_area_sum.values)\n",
    "        blue_square_area = square_area.loc[area_df['color'] == 'blue']\n",
    "        blue_square_area = blue_square_area.agg({'area' :['sum']})\n",
    "        blue_square_area = int(blue_square_area.values)\n",
    "        print('Square: ',round((blue_square_sum/square_area_sum)*100, 2),'%')\n",
    "    if shape == 'triangle':\n",
    "        triangle_area = area_df.loc[area_df['shape'] == 'triangle']\n",
    "        triangle_area_sum = triangle_area.agg({'area' :['sum']})\n",
    "        triangle_area_sum = int(triangle_area_sum.values)\n",
    "        blue_tri_area = triangle_area.loc[area_df['color'] == 'blue']\n",
    "        blue_tri_area = blue_tri_area.agg({'area' :['sum']})\n",
    "        blue_tri_area = int(blue_tri_area.values)\n",
    "        print('Triangle: ',round((blue_triangle_sum/triangle_area_sum)*100, 2),'%')"
   ]
  }
 ],
 "metadata": {
  "kernelspec": {
   "display_name": "Python 3",
   "language": "python",
   "name": "python3"
  },
  "language_info": {
   "codemirror_mode": {
    "name": "ipython",
    "version": 3
   },
   "file_extension": ".py",
   "mimetype": "text/x-python",
   "name": "python",
   "nbconvert_exporter": "python",
   "pygments_lexer": "ipython3",
   "version": "3.7.4"
  }
 },
 "nbformat": 4,
 "nbformat_minor": 4
}
